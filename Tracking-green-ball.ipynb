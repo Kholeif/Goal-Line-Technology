{
 "cells": [
  {
   "cell_type": "code",
   "execution_count": null,
   "metadata": {},
   "outputs": [],
   "source": [
    "import cv2\n",
    "import numpy as np\n",
    "import imutils\n",
    "from collections import deque"
   ]
  },
  {
   "cell_type": "code",
   "execution_count": null,
   "metadata": {},
   "outputs": [],
   "source": [
    "#after testing hsv \n",
    "\n",
    "greenLower = (29, 86, 6)\n",
    "greenUpper = (64, 255, 255)\n",
    "# greenLower = (41, 30, 74)\n",
    "# greenUpper = (86, 144, 255)\n",
    "pts = deque(maxlen=20)"
   ]
  },
  {
   "cell_type": "code",
   "execution_count": null,
   "metadata": {},
   "outputs": [],
   "source": [
    "video = cv2.VideoCapture(\"test.mov\")\n",
    "\n",
    "fourcc = cv2.VideoWriter_fourcc('M','J','P','G')\n",
    "out = cv2.VideoWriter('outputtt.avi',fourcc, 25.0,(1000,562),True)\n",
    "\n",
    "while(video.isOpened()):\n",
    "    _, frame = video.read()\n",
    "    if frame is None:\n",
    "        break\n",
    "    frame = imutils.resize(frame, width=1000)\n",
    "    blurred = cv2.GaussianBlur(frame, (11, 11), 0)\n",
    "#     cv2.imshow(\"blurred\",blurred)\n",
    "    hsv = cv2.cvtColor(blurred, cv2.COLOR_BGR2HSV)\n",
    "#     cv2.imshow(\"hsv\",hsv)\n",
    "    mask = cv2.inRange(hsv, greenLower, greenUpper)\n",
    "    kernel=np.ones((5,5),np.uint8)\n",
    "#     mask = cv2.erode(mask, kernel, iterations=2)\n",
    "#     mask=cv2.morphologyEx(mask,cv2.MORPH_OPEN,kernel)\n",
    "    mask=cv2.morphologyEx(mask,cv2.MORPH_CLOSE,kernel)\n",
    "    mask = cv2.dilate(mask, kernel, iterations=2)\n",
    "    mask = cv2.erode(mask, kernel, iterations=2)\n",
    "    res=cv2.bitwise_and(frame,frame,mask=mask)\n",
    "    cnts,_=cv2.findContours(mask.copy(),cv2.RETR_EXTERNAL,cv2.CHAIN_APPROX_SIMPLE)[-2:]\n",
    "#     cv2.imshow(\"mask\",mask)\n",
    "    \n",
    "#     cnts = cv2.findContours(mask.copy(), cv2.RETR_EXTERNAL,cv2.CHAIN_APPROX_SIMPLE)\n",
    "#     cnts = imutils.grab_contours(cnts)\n",
    "    center = None\n",
    "    \n",
    "    # only proceed if at least one contour (ball) was found\n",
    "    if len(cnts) > 0:\n",
    "        c = max(cnts, key=cv2.contourArea)\n",
    "        ((x, y), radius) = cv2.minEnclosingCircle(c)\n",
    "        center = (int(x), int(y))\n",
    "\n",
    "        if radius > 10:\n",
    "            cv2.circle(frame, (int(x), int(y)), int(radius),(0, 255, 255), 2)\n",
    "            cv2.circle(frame, (int(x), int(y)), 5, (0, 0, 255), -1)\n",
    "    \n",
    "    pts.appendleft(center)\n",
    "    for i in range (1,len(pts)):\n",
    "        if pts[i-1]is None or pts[i] is None:\n",
    "            continue\n",
    "        thick = int(np.sqrt(len(pts) / float(i + 1)) * 2.5)\n",
    "        cv2.line(frame, pts[i-1],pts[i],(0,0,225),thick)\n",
    "\n",
    "\n",
    "#     frame = imutils.rotate(frame, 180)\n",
    "    out.write(frame)\n",
    "    key = cv2.waitKey(1) & 0xFF\n",
    "    \n",
    "    if key == 27:\n",
    "        break\n",
    "        \n",
    "        \n",
    "video.release()\n",
    "out.release()\n",
    "cv2.destroyAllWindows()"
   ]
  }
 ],
 "metadata": {
  "kernelspec": {
   "display_name": "Python 3",
   "language": "python",
   "name": "python3"
  },
  "language_info": {
   "codemirror_mode": {
    "name": "ipython",
    "version": 3
   },
   "file_extension": ".py",
   "mimetype": "text/x-python",
   "name": "python",
   "nbconvert_exporter": "python",
   "pygments_lexer": "ipython3",
   "version": "3.7.3"
  }
 },
 "nbformat": 4,
 "nbformat_minor": 4
}
